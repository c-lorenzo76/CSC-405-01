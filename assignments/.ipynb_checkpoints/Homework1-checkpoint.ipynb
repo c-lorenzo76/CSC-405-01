{
 "cells": [
  {
   "cell_type": "code",
   "execution_count": null,
   "id": "4cceb551",
   "metadata": {},
   "outputs": [],
   "source": [
    "import numpy as np\n",
    "import pandas as pd"
   ]
  },
  {
   "cell_type": "markdown",
   "id": "894ec118",
   "metadata": {},
   "source": [
    "## Question 1\n",
    "Implement a class for n-sided polygons and a class for points in a Euclidean system, namely polygon and point respectively. \n",
    "\n",
    "For example, a 4-sided polygon can be defined by 4 points P1, P2, P3, P4, and P1-P4 are each points of the form point(X,Y), and X and Y are coordinates on the X and Y axis, respectively. \n",
    "\n",
    "The edges are listed counterclockwise starting at the lower left: P1 to P2, P2 to P3, P3 to P4, and P4 to P1. \n",
    "\n",
    "The polygon class should work for polygons of any number of edges and have a function perimeter that returns its perimeter (sum of the lengths of the edges). (20points)\n",
    "\n",
    "Hint: use the Pythagorian theorem: if a line segment Z starts at (X1,Y1) and ends at (X2, Y2), the length of Z is the square root of (X1-X2)^2 + (Y1-Y2)^2.\n",
    "\n",
    "Example: \n",
    "The perimeter of the polygon/triangle on point(1,1), point(1,2), and point(2,2) is 3.4; \n",
    "The perimeter of the 4-sided polygon on point(2,1), point(2,3), point(6,3), and point(4,1) is 10.8; (10points)"
   ]
  },
  {
   "cell_type": "code",
   "execution_count": null,
   "id": "6646a85d",
   "metadata": {},
   "outputs": [],
   "source": [
    "class Point:\n",
    "    def __init__(self, p1, p2):\n",
    "        self.p1 = p1\n",
    "        self.p2 = p2\n",
    "    \n",
    "    def display(self):\n",
    "        print(f\"Point {self.p1} to Point {self.p2}\")"
   ]
  },
  {
   "cell_type": "code",
   "execution_count": null,
   "id": "ad4f6c8a",
   "metadata": {},
   "outputs": [],
   "source": [
    "class Polygon: \n",
    "    def __init__(self, points):\n",
    "        if len(points) < 3:\n",
    "            print(f\"Polygon has a minimum of 3 points\")\n",
    "        self.points = points\n",
    "    \n",
    "    def perimeter (self):\n",
    "        "
   ]
  },
  {
   "cell_type": "markdown",
   "id": "5c3b1b5d",
   "metadata": {},
   "source": [
    "## Question 2 \n",
    "Use Pandas to load both data/AIS/transit_segments.csv, and data/AIS/vessel_information.csv. Show the first 5 rows of each dataset to inspect it.(10points)\n",
    "\n",
    "For data/AIS/vessel_information.csv, keep only those rows with the type value occurring for at least 100 times in the dataset. (10points)\n",
    "\n",
    "Merge data/AIS/vessel_information.csv and data/AIS/transit_segments.csv on the \"mmsi\" column using outer join. (10points)\n",
    "\n",
    "If you are not allowed to call the inner join provided by Pandas but have the above outer join results, how to get the results of inner join? You can use other functions provided by Pandas (but not a function that directly implements the inner join). (10points)\n",
    "\n",
    "Now directly call the inner join provided by Pandas, check whether your results above are exactly the same.(10points)"
   ]
  },
  {
   "cell_type": "code",
   "execution_count": null,
   "id": "708a6057",
   "metadata": {},
   "outputs": [],
   "source": []
  }
 ],
 "metadata": {
  "kernelspec": {
   "display_name": "Python 3 (ipykernel)",
   "language": "python",
   "name": "python3"
  },
  "language_info": {
   "codemirror_mode": {
    "name": "ipython",
    "version": 3
   },
   "file_extension": ".py",
   "mimetype": "text/x-python",
   "name": "python",
   "nbconvert_exporter": "python",
   "pygments_lexer": "ipython3",
   "version": "3.11.4"
  }
 },
 "nbformat": 4,
 "nbformat_minor": 5
}
