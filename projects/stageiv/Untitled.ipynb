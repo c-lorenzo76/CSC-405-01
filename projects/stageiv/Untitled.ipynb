{
 "cells": [
  {
   "cell_type": "code",
   "execution_count": 12,
   "id": "4d3b8e3f",
   "metadata": {},
   "outputs": [],
   "source": [
    "import pandas as pd\n",
    "import numpy as np\n",
    "\n",
    "csv_file  = 'super_COVID19_data.csv'\n",
    "\n",
    "df = pd.read_csv(csv_file)\n",
    "\n",
    "start_date = '2020-06-01'\n",
    "end_date = '2021-01-03'\n",
    "\n",
    "df = df.drop(columns=['County Name_y'])\n",
    "\n",
    "df = df.rename(columns={'County Name_x': 'County Name', 'StateFIPS_cases': 'StateFIPS' })\n",
    "\n",
    "\n",
    "columns_drop = [col for col in df.columns if (\n",
    "    ('_cases' in col or '_deaths' in col) and not (start_date <= col.split('_')[0] <= end_date))]\n",
    "\n",
    "df = df.drop(columns=columns_drop)\n",
    "\n",
    "# Reorder columns to move 'Population' right after 'State'\n",
    "cols = df.columns.tolist()\n",
    "state_index = cols.index('StateFIPS')\n",
    "cols.remove('population')\n",
    "cols.insert(state_index + 1, 'population')\n",
    "df = df[cols]\n",
    "\n",
    "df.to_csv('US-Covid.csv', index=False) "
   ]
  }
 ],
 "metadata": {
  "kernelspec": {
   "display_name": "Python 3 (ipykernel)",
   "language": "python",
   "name": "python3"
  },
  "language_info": {
   "codemirror_mode": {
    "name": "ipython",
    "version": 3
   },
   "file_extension": ".py",
   "mimetype": "text/x-python",
   "name": "python",
   "nbconvert_exporter": "python",
   "pygments_lexer": "ipython3",
   "version": "3.11.4"
  }
 },
 "nbformat": 4,
 "nbformat_minor": 5
}
