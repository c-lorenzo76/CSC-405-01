{
 "cells": [
  {
   "cell_type": "markdown",
   "id": "2453c1ed",
   "metadata": {},
   "source": [
    "# Stats notes"
   ]
  },
  {
   "cell_type": "markdown",
   "id": "b83f5030",
   "metadata": {},
   "source": [
    "Spread in statistics refers to the degree of variability or dispersion in a dataset.\n",
    "It measures how data points are scattered or spread out from the central tendency.\n",
    "\n",
    "Measures of spread (dispersion) are statistics that describe how data varies"
   ]
  },
  {
   "cell_type": "markdown",
   "id": "c51add64",
   "metadata": {},
   "source": [
    "Mean is more sensitive to outlier numbers.\n"
   ]
  },
  {
   "cell_type": "markdown",
   "id": "5e371542",
   "metadata": {},
   "source": [
    "Quick check: \n",
    "Scenario 1: discrete because its stuck in between a time it is in a time interval \n",
    "\n",
    "Scenario 2: "
   ]
  }
 ],
 "metadata": {
  "kernelspec": {
   "display_name": "Python 3 (ipykernel)",
   "language": "python",
   "name": "python3"
  },
  "language_info": {
   "codemirror_mode": {
    "name": "ipython",
    "version": 3
   },
   "file_extension": ".py",
   "mimetype": "text/x-python",
   "name": "python",
   "nbconvert_exporter": "python",
   "pygments_lexer": "ipython3",
   "version": "3.11.4"
  }
 },
 "nbformat": 4,
 "nbformat_minor": 5
}
