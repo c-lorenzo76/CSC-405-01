{
 "cells": [
  {
   "cell_type": "markdown",
   "id": "e5a540f7",
   "metadata": {},
   "source": [
    "# September 10, 2024 "
   ]
  },
  {
   "cell_type": "markdown",
   "id": "560e0904",
   "metadata": {},
   "source": [
    "### PDF: Pandas.pdf"
   ]
  },
  {
   "cell_type": "markdown",
   "id": "61639ae4",
   "metadata": {},
   "source": [
    "Inner join: has the common information so it maintains only the overlapping information."
   ]
  },
  {
   "cell_type": "markdown",
   "id": "922957d2",
   "metadata": {},
   "source": [
    "Outer join: includes all rows from both tables, filling in missing values with NaN for non-matching rows. "
   ]
  },
  {
   "cell_type": "markdown",
   "id": "0b01c3f5",
   "metadata": {},
   "source": [
    "![title](images/Joins.jpg)"
   ]
  },
  {
   "cell_type": "markdown",
   "id": "950781d6",
   "metadata": {},
   "source": [
    "Look at how the rows are chosen based on the join. Since we don't know if A column is the same for both tables we create A_1 and A_2. "
   ]
  },
  {
   "cell_type": "markdown",
   "id": "6179fb56",
   "metadata": {},
   "source": [
    "### Group By"
   ]
  },
  {
   "cell_type": "code",
   "execution_count": 15,
   "id": "3f10d1e7",
   "metadata": {},
   "outputs": [
    {
     "name": "stdout",
     "output_type": "stream",
     "text": [
      "Category\n",
      "A    55\n",
      "B    45\n",
      "Name: Value, dtype: int64\n"
     ]
    }
   ],
   "source": [
    "import pandas as pd \n",
    "\n",
    "data = {'Category': ['A', 'B', 'A', 'B', 'A'],\n",
    "        'Value': [10,20,15,25,30]}\n",
    "\n",
    "df = pd.DataFrame(data)\n",
    "\n",
    "# Grouping by the 'Category' column\n",
    "grouped = df.groupby('Category')\n",
    "\n",
    "# Calculating the sum of 'Value' for each group\n",
    "sum_by_category = grouped['Value'].sum()\n",
    "\n",
    "print(sum_by_category)"
   ]
  },
  {
   "cell_type": "markdown",
   "id": "b189af81",
   "metadata": {},
   "source": [
    "## Aggregation\n",
    "Aggregation in Pandas refers to the process of combining multiple data points\n",
    "into a single summary value. It involves performing a computation on a group of\n",
    "data elements and summarizing the results. Aggregation is often used in\n",
    "combination with the .groupby() function to analyze and summarize data based\n",
    "on specific categories or groups."
   ]
  },
  {
   "cell_type": "code",
   "execution_count": 4,
   "id": "ed088f6b",
   "metadata": {},
   "outputs": [
    {
     "name": "stdout",
     "output_type": "stream",
     "text": [
      "         Value               \n",
      "           sum       mean max\n",
      "Category                     \n",
      "A           55  18.333333  30\n",
      "B           45  22.500000  25\n"
     ]
    }
   ],
   "source": [
    "import pandas as pd \n",
    "\n",
    "data = {'Category': ['A', 'B', 'A', 'B', 'A'],\n",
    "        'Value': [10,20,15,25,30]}\n",
    "\n",
    "df = pd.DataFrame(data)\n",
    "\n",
    "# Grouping by the 'Category' column and calculating aggregations\n",
    "aggregated = df.groupby('Category').agg({\n",
    "    'Value': ['sum', 'mean', 'max']\n",
    "})\n",
    "\n",
    "print(aggregated)"
   ]
  },
  {
   "cell_type": "markdown",
   "id": "b6501b9c",
   "metadata": {},
   "source": [
    "## Data Reshaping"
   ]
  },
  {
   "cell_type": "markdown",
   "id": "be6c68d1",
   "metadata": {},
   "source": [
    "Wide = a lot of columns with several rows it will be hard to view the data as it would be wide asf. \n",
    "\n",
    "Long = a lot of rows with several columns. \n",
    "\n",
    "Pivoting data - long to wide (e.g. use pivot())\n",
    "Melting data - wide to long (e.g. use melt())\n",
    "\n",
    ".stack() method in Pandas is used to transform or reshape a DataFrame from a wide format to a long format by \"stacking\" the columns into a single column."
   ]
  },
  {
   "cell_type": "markdown",
   "id": "bf53e5a8",
   "metadata": {},
   "source": [
    "![title](images/Stack.jpg)![title](images/Complement-Stack.jpg)"
   ]
  },
  {
   "cell_type": "markdown",
   "id": "353ef8a2",
   "metadata": {},
   "source": [
    "## Data Cleaning \n",
    "• Handling missing values (e.g., using .dropna() or .fillna()).\n",
    "\n",
    "• Removing duplicate rows (e.g., using .drop_duplicates()).\n",
    "\n",
    "• Correcting inconsistent or erroneous data."
   ]
  },
  {
   "cell_type": "markdown",
   "id": "4e16f620",
   "metadata": {},
   "source": [
    "## Creating new features"
   ]
  },
  {
   "cell_type": "markdown",
   "id": "16e3f649",
   "metadata": {},
   "source": [
    "• Deriving new columns based on existing ones.\n",
    "\n",
    "• Using conditional statements to create categorical features."
   ]
  },
  {
   "cell_type": "markdown",
   "id": "a7b2f250",
   "metadata": {},
   "source": [
    "## Scaling and Normalization\n"
   ]
  },
  {
   "cell_type": "markdown",
   "id": "7791c32c",
   "metadata": {},
   "source": [
    "![title](images/Z-score.jpg)"
   ]
  },
  {
   "cell_type": "markdown",
   "id": "bfcc0fb3",
   "metadata": {},
   "source": [
    "### Normalizing Data (Min-max scaling"
   ]
  },
  {
   "cell_type": "code",
   "execution_count": 37,
   "id": "a3cdedb0",
   "metadata": {},
   "outputs": [
    {
     "name": "stdout",
     "output_type": "stream",
     "text": [
      "0   -0.418556\n",
      "1   -0.350065\n",
      "2   -0.350065\n",
      "3   -0.315819\n",
      "4   -0.350065\n",
      "5   -0.350065\n",
      "6   -0.281574\n",
      "7   -0.247328\n",
      "8    2.663537\n",
      "Name: Z-score, dtype: float64\n"
     ]
    }
   ],
   "source": [
    "import pandas as pd\n",
    "# Sample dataset\n",
    "data = {'values': [10, 12, 12, 13, 12, 12, 14, 15, 100]}\n",
    "# The value 100 is an outlier\n",
    "df = pd.DataFrame(data)\n",
    "\n",
    "# Calculate Z-scores\n",
    "df['Z-score'] = (df['values'] - df['values'].mean()) / df['values'].std()\n",
    "\n",
    "print(df['Z-score'])"
   ]
  },
  {
   "cell_type": "markdown",
   "id": "90aea5c9",
   "metadata": {},
   "source": [
    "#### Since the dataset is not big enough the 100 affected the mean and therefore the Z-score as the 100 is an outlier"
   ]
  },
  {
   "cell_type": "markdown",
   "id": "bcde3f5d",
   "metadata": {},
   "source": [
    "### Log Transformation"
   ]
  },
  {
   "cell_type": "code",
   "execution_count": 38,
   "id": "6b886098",
   "metadata": {},
   "outputs": [
    {
     "data": {
      "text/html": [
       "<div>\n",
       "<style scoped>\n",
       "    .dataframe tbody tr th:only-of-type {\n",
       "        vertical-align: middle;\n",
       "    }\n",
       "\n",
       "    .dataframe tbody tr th {\n",
       "        vertical-align: top;\n",
       "    }\n",
       "\n",
       "    .dataframe thead th {\n",
       "        text-align: right;\n",
       "    }\n",
       "</style>\n",
       "<table border=\"1\" class=\"dataframe\">\n",
       "  <thead>\n",
       "    <tr style=\"text-align: right;\">\n",
       "      <th></th>\n",
       "      <th>values</th>\n",
       "      <th>Z-score</th>\n",
       "      <th>log_values</th>\n",
       "    </tr>\n",
       "  </thead>\n",
       "  <tbody>\n",
       "    <tr>\n",
       "      <th>0</th>\n",
       "      <td>10</td>\n",
       "      <td>-0.418556</td>\n",
       "      <td>2.397895</td>\n",
       "    </tr>\n",
       "    <tr>\n",
       "      <th>1</th>\n",
       "      <td>12</td>\n",
       "      <td>-0.350065</td>\n",
       "      <td>2.564949</td>\n",
       "    </tr>\n",
       "    <tr>\n",
       "      <th>2</th>\n",
       "      <td>12</td>\n",
       "      <td>-0.350065</td>\n",
       "      <td>2.564949</td>\n",
       "    </tr>\n",
       "    <tr>\n",
       "      <th>3</th>\n",
       "      <td>13</td>\n",
       "      <td>-0.315819</td>\n",
       "      <td>2.639057</td>\n",
       "    </tr>\n",
       "    <tr>\n",
       "      <th>4</th>\n",
       "      <td>12</td>\n",
       "      <td>-0.350065</td>\n",
       "      <td>2.564949</td>\n",
       "    </tr>\n",
       "    <tr>\n",
       "      <th>5</th>\n",
       "      <td>12</td>\n",
       "      <td>-0.350065</td>\n",
       "      <td>2.564949</td>\n",
       "    </tr>\n",
       "    <tr>\n",
       "      <th>6</th>\n",
       "      <td>14</td>\n",
       "      <td>-0.281574</td>\n",
       "      <td>2.708050</td>\n",
       "    </tr>\n",
       "    <tr>\n",
       "      <th>7</th>\n",
       "      <td>15</td>\n",
       "      <td>-0.247328</td>\n",
       "      <td>2.772589</td>\n",
       "    </tr>\n",
       "    <tr>\n",
       "      <th>8</th>\n",
       "      <td>100</td>\n",
       "      <td>2.663537</td>\n",
       "      <td>4.615121</td>\n",
       "    </tr>\n",
       "  </tbody>\n",
       "</table>\n",
       "</div>"
      ],
      "text/plain": [
       "   values   Z-score  log_values\n",
       "0      10 -0.418556    2.397895\n",
       "1      12 -0.350065    2.564949\n",
       "2      12 -0.350065    2.564949\n",
       "3      13 -0.315819    2.639057\n",
       "4      12 -0.350065    2.564949\n",
       "5      12 -0.350065    2.564949\n",
       "6      14 -0.281574    2.708050\n",
       "7      15 -0.247328    2.772589\n",
       "8     100  2.663537    4.615121"
      ]
     },
     "execution_count": 38,
     "metadata": {},
     "output_type": "execute_result"
    }
   ],
   "source": [
    "import numpy as np\n",
    "\n",
    "# Log transformation\n",
    "df['log_values'] = np.log1p(df['values'])\n",
    "\n",
    "df"
   ]
  },
  {
   "cell_type": "markdown",
   "id": "fdeebcf7",
   "metadata": {},
   "source": [
    "## Handling Outliers and Anomalies"
   ]
  },
  {
   "cell_type": "code",
   "execution_count": 25,
   "id": "c307cce8",
   "metadata": {},
   "outputs": [
    {
     "name": "stdout",
     "output_type": "stream",
     "text": [
      "Empty DataFrame\n",
      "Columns: [values, Z-score]\n",
      "Index: []\n"
     ]
    }
   ],
   "source": [
    "import pandas as pd\n",
    "\n",
    "# Sample dataset\n",
    "data = {'values': [10, 12, 12, 13, 12, 12, 14, 15, 100]}\n",
    "\n",
    "# The value 100 is an outlier\n",
    "df = pd.DataFrame(data)\n",
    "\n",
    "# Calculate Z-scores\n",
    "df['Z-score'] = (df['values'] - df['values'].mean()) / df['values'].std()\n",
    "\n",
    "# Identify outliers\n",
    "outliers = df[df['Z-score'].abs() > 3]\n",
    "print(outliers)"
   ]
  },
  {
   "cell_type": "markdown",
   "id": "95bd9b72",
   "metadata": {},
   "source": [
    "## CHECK HOW TO PROPERLY DO THIS SHIT "
   ]
  },
  {
   "cell_type": "code",
   "execution_count": 35,
   "id": "2ed2276b",
   "metadata": {},
   "outputs": [
    {
     "name": "stdout",
     "output_type": "stream",
     "text": [
      "           values\n",
      "count   54.000000\n",
      "mean    53.770954\n",
      "std     18.307407\n",
      "min     40.201649\n",
      "25%     46.548451\n",
      "50%     49.089898\n",
      "75%     52.655493\n",
      "max    130.000000\n",
      "           values  log_values\n",
      "count   54.000000   54.000000\n",
      "mean    53.770954    3.967668\n",
      "std     18.307407    0.242072\n",
      "min     40.201649    3.718478\n",
      "25%     46.548451    3.861735\n",
      "50%     49.089898    3.913810\n",
      "75%     52.655493    3.982582\n",
      "max    130.000000    4.875197\n"
     ]
    }
   ],
   "source": [
    "import pandas as pd\n",
    "import numpy as np\n",
    "\n",
    "# Set random seed for reproducibility\n",
    "np.random.seed(42)\n",
    "\n",
    "# Generate 50 normal data points\n",
    "data = np.random.normal(loc=50, scale=5, size=50)\n",
    "\n",
    "# Insert some outliers\n",
    "outliers = [100, 110, 120, 130]\n",
    "\n",
    "## How to concatate the data with outlier? Name it data_with_outliers\n",
    "data_with_outliers = np.concatenate([data, outliers])\n",
    "\n",
    "# Create DataFrame\n",
    "df = pd.DataFrame(data_with_outliers, columns=['values'])\n",
    "print(df.describe())\n",
    "\n",
    "df['log_values'] = np.log1p(df['values'])\n",
    "print(df.describe())\n",
    "\n",
    "df['Z-score'] = (df['values'] - df['values'].mean()) / df['values'].std()\n",
    "print()"
   ]
  }
 ],
 "metadata": {
  "kernelspec": {
   "display_name": "Python 3 (ipykernel)",
   "language": "python",
   "name": "python3"
  },
  "language_info": {
   "codemirror_mode": {
    "name": "ipython",
    "version": 3
   },
   "file_extension": ".py",
   "mimetype": "text/x-python",
   "name": "python",
   "nbconvert_exporter": "python",
   "pygments_lexer": "ipython3",
   "version": "3.11.4"
  }
 },
 "nbformat": 4,
 "nbformat_minor": 5
}
