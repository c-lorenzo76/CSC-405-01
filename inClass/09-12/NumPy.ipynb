{
 "cells": [
  {
   "cell_type": "markdown",
   "id": "705da888",
   "metadata": {},
   "source": [
    "# Numpy"
   ]
  },
  {
   "cell_type": "markdown",
   "id": "e3d19946",
   "metadata": {},
   "source": [
    "### Using arange(start, stop, step) \n",
    "Functions generate a sequence of numbers, starting from start, ending at stop (exclusive), with a step size of step"
   ]
  },
  {
   "cell_type": "code",
   "execution_count": 1,
   "id": "26df590d",
   "metadata": {},
   "outputs": [
    {
     "name": "stdout",
     "output_type": "stream",
     "text": [
      "[0 1 2 3 4 5 6 7 8 9]\n"
     ]
    }
   ],
   "source": [
    "import numpy as np\n",
    "# Example: Generate numbers from 0 to 9\n",
    "x = np.arange(0, 10, 1)\n",
    "print(x)"
   ]
  },
  {
   "cell_type": "markdown",
   "id": "8b6fa0e0",
   "metadata": {},
   "source": [
    "### Using linspace(start, stop, num)\n",
    "Generates num evenly spaced values between start and stop (inclusive)"
   ]
  },
  {
   "cell_type": "code",
   "execution_count": 4,
   "id": "be880f54",
   "metadata": {
    "scrolled": true
   },
   "outputs": [
    {
     "name": "stdout",
     "output_type": "stream",
     "text": [
      "[ 0.   2.5  5.   7.5 10. ]\n"
     ]
    }
   ],
   "source": [
    "# Example: Generate 5 evenly spaced numbers from 0 to 10\n",
    "y = np.linspace(0, 10, 5)\n",
    "print(y)"
   ]
  },
  {
   "cell_type": "markdown",
   "id": "7a04eabf",
   "metadata": {},
   "source": [
    "### Using logspace(start, stop, num)\n",
    "Generates num logarithmatically spaced values between powers of 10"
   ]
  },
  {
   "cell_type": "code",
   "execution_count": 5,
   "id": "c0ebd44f",
   "metadata": {},
   "outputs": [
    {
     "name": "stdout",
     "output_type": "stream",
     "text": [
      "[  10.           46.41588834  215.443469   1000.        ]\n"
     ]
    }
   ],
   "source": [
    "# Example: Generate 4 logarithmically spaced numbers between 10^1 and 10^3\n",
    "z = np.logspace(1, 3, 4)\n",
    "print(z)"
   ]
  },
  {
   "cell_type": "markdown",
   "id": "f07e0d3f",
   "metadata": {},
   "source": [
    "### Using mgrid for Mesh Grid\n",
    "Creates a multi-dimensional mesh grid for two dimensions. Useful for generating coordinate grids."
   ]
  },
  {
   "cell_type": "code",
   "execution_count": 15,
   "id": "a485a5b8",
   "metadata": {
    "scrolled": true
   },
   "outputs": [
    {
     "name": "stdout",
     "output_type": "stream",
     "text": [
      "Mgrid example (X): [[0 0]\n",
      " [1 1]\n",
      " [2 2]]\n",
      "Mgrid example (Y): [[0 1]\n",
      " [0 1]\n",
      " [0 1]]\n"
     ]
    }
   ],
   "source": [
    "# Example: Create a 2D grid for coordinates\n",
    "X, Y = np.mgrid[0:3, 0:2]\n",
    "print(\"Mgrid example (X):\", X)\n",
    "print(\"Mgrid example (Y):\", Y)"
   ]
  },
  {
   "cell_type": "markdown",
   "id": "29b30c26",
   "metadata": {},
   "source": [
    "### Using diag() for Diagonal Matrices\n",
    "Extracts the diagonal of a matrix or creates a diagonal matrix"
   ]
  },
  {
   "cell_type": "code",
   "execution_count": 11,
   "id": "ae14f79c",
   "metadata": {},
   "outputs": [
    {
     "name": "stdout",
     "output_type": "stream",
     "text": [
      "Diagonal matrix example:\n"
     ]
    },
    {
     "data": {
      "text/plain": [
       "array([[1, 0, 0],\n",
       "       [0, 2, 0],\n",
       "       [0, 0, 3]])"
      ]
     },
     "execution_count": 11,
     "metadata": {},
     "output_type": "execute_result"
    }
   ],
   "source": [
    "# Example: Create a diagonal matrix\n",
    "diag_matrix = np.diag([1, 2, 3])\n",
    "print(\"Diagonal matrix example:\")\n",
    "diag_matrix"
   ]
  },
  {
   "cell_type": "markdown",
   "id": "83a86498",
   "metadata": {},
   "source": [
    "### Generating random data with random\n",
    "Few ways to generate random arrays"
   ]
  },
  {
   "cell_type": "code",
   "execution_count": 18,
   "id": "99c99ffe",
   "metadata": {},
   "outputs": [
    {
     "name": "stdout",
     "output_type": "stream",
     "text": [
      "Random array example: [[0.05041801 0.06803022 0.14013715]\n",
      " [0.75273976 0.34671736 0.6448038 ]]\n",
      "Random normal distribution example: [[ 0.27797267  0.67542511 -0.61849826]\n",
      " [-0.57530096 -0.14274428 -2.10205427]]\n"
     ]
    }
   ],
   "source": [
    "# Example: Create a 2x3 matrix of random values between 0 and 1\n",
    "rand_array = np.random.rand(2, 3)\n",
    "print(\"Random array example:\", rand_array)\n",
    "\n",
    "# Example: Create a 2x3 matrix of normally distributed random numbers\n",
    "randn_array = np.random.randn(2, 3)\n",
    "print(\"Random normal distribution example:\", randn_array)\n",
    "\n",
    "# Random array example:\n",
    "# [[0.11697915 0.64027738 0.53711974]\n",
    "# [0.5296738 0.23264256 0.8197505 ]]"
   ]
  },
  {
   "cell_type": "markdown",
   "id": "70494cc3",
   "metadata": {},
   "source": [
    "### Creating Arrays of Zeros and Ones with zeros() and ones()\n",
    "These functions create arrays filled with zeros or ones, respectively"
   ]
  },
  {
   "cell_type": "code",
   "execution_count": 20,
   "id": "4d484a53",
   "metadata": {},
   "outputs": [
    {
     "name": "stdout",
     "output_type": "stream",
     "text": [
      "Zeros array example: [[0. 0. 0.]\n",
      " [0. 0. 0.]]\n",
      "Ones array example: [[1. 1. 1.]\n",
      " [1. 1. 1.]]\n"
     ]
    }
   ],
   "source": [
    "# Example: Create a 2x3 array filled with zeros\n",
    "zeros_array = np.zeros((2, 3))\n",
    "print(\"Zeros array example:\", zeros_array)\n",
    "\n",
    "# Example: Create a 2x3 array filled with ones\n",
    "ones_array = np.ones((2, 3))\n",
    "print(\"Ones array example:\", ones_array)"
   ]
  },
  {
   "cell_type": "markdown",
   "id": "11112ab2",
   "metadata": {},
   "source": [
    "### Additional example - eye(): Identify Matrix\n",
    "You can also use eye() to create an Identity matrix"
   ]
  },
  {
   "cell_type": "code",
   "execution_count": 23,
   "id": "244d5312",
   "metadata": {},
   "outputs": [
    {
     "data": {
      "text/plain": [
       "array([[1., 0., 0.],\n",
       "       [0., 1., 0.],\n",
       "       [0., 0., 1.]])"
      ]
     },
     "execution_count": 23,
     "metadata": {},
     "output_type": "execute_result"
    }
   ],
   "source": [
    "# Example: Create a 3x3 identity matrix\n",
    "identity_matrix = np.eye(3)\n",
    "identity_matrix\n",
    "\n",
    "# print(\"Identity matrix example:\", identity_matrix)"
   ]
  },
  {
   "cell_type": "markdown",
   "id": "7f8d5283",
   "metadata": {},
   "source": [
    "### Exercise\n",
    "1. Generate a 4x4 matrix of random integers between 1 and 100.\n",
    "2. Calculate the sum of all elements in the matrix.\n",
    "3. Find the maximum and minimum values in the matrix.\n",
    "4. Replace all even numbers in the matrix with 0.\n",
    "5. Find the row-wise sum of the modified matrix.\n",
    "6. Transpose the matrix (swap rows and columns)."
   ]
  },
  {
   "cell_type": "code",
   "execution_count": 36,
   "id": "da7f37ad",
   "metadata": {},
   "outputs": [
    {
     "data": {
      "text/plain": [
       "array([[ 10,  63,  15,  71],\n",
       "       [100,  59,  72,  42],\n",
       "       [100,  48,  53,   8],\n",
       "       [ 61,  58,  77,  56]])"
      ]
     },
     "execution_count": 36,
     "metadata": {},
     "output_type": "execute_result"
    }
   ],
   "source": [
    "import numpy as np\n",
    "\n",
    "# Step 1: Generate a 4x4 matrix of random integers between 1 and 100\n",
    "matrix1 = np.random.randint(1,101, size=(4,4))\n",
    "matrix1\n"
   ]
  },
  {
   "cell_type": "code",
   "execution_count": 38,
   "id": "214b1976",
   "metadata": {},
   "outputs": [
    {
     "data": {
      "text/plain": [
       "893"
      ]
     },
     "execution_count": 38,
     "metadata": {},
     "output_type": "execute_result"
    }
   ],
   "source": [
    "# Step 2: Calculate the sum of all elements in the matrix \n",
    "sum = matrix1.sum()\n",
    "sum"
   ]
  },
  {
   "cell_type": "code",
   "execution_count": 40,
   "id": "aa03f5f0",
   "metadata": {},
   "outputs": [
    {
     "data": {
      "text/plain": [
       "(100, 8)"
      ]
     },
     "execution_count": 40,
     "metadata": {},
     "output_type": "execute_result"
    }
   ],
   "source": [
    "# Step 3: Find the maximum and minimum values in the matrix\n",
    "max = matrix1.max()\n",
    "min = matrix1.min()\n",
    "\n",
    "max, min"
   ]
  },
  {
   "cell_type": "code",
   "execution_count": 41,
   "id": "683d39d8",
   "metadata": {},
   "outputs": [
    {
     "data": {
      "text/plain": [
       "array([[ 0, 63, 15, 71],\n",
       "       [ 0, 59,  0,  0],\n",
       "       [ 0,  0, 53,  0],\n",
       "       [61,  0, 77,  0]])"
      ]
     },
     "execution_count": 41,
     "metadata": {},
     "output_type": "execute_result"
    }
   ],
   "source": [
    "# Step 4: Replace all even numbers in the matrix with 0\n",
    "matrix1[matrix1 % 2 == 0] = 0\n",
    "matrix1"
   ]
  },
  {
   "cell_type": "code",
   "execution_count": 42,
   "id": "6a965490",
   "metadata": {},
   "outputs": [
    {
     "data": {
      "text/plain": [
       "array([149,  59,  53, 138])"
      ]
     },
     "execution_count": 42,
     "metadata": {},
     "output_type": "execute_result"
    }
   ],
   "source": [
    "# Step 5: Find the row-wise sum of the modified matrix\n",
    "row_wise_sum = np.sum(matrix1, axis=1)\n",
    "row_wise_sum"
   ]
  },
  {
   "cell_type": "code",
   "execution_count": 43,
   "id": "4707c3ef",
   "metadata": {
    "scrolled": true
   },
   "outputs": [
    {
     "data": {
      "text/plain": [
       "array([[ 0,  0,  0, 61],\n",
       "       [63, 59,  0,  0],\n",
       "       [15,  0, 53, 77],\n",
       "       [71,  0,  0,  0]])"
      ]
     },
     "execution_count": 43,
     "metadata": {},
     "output_type": "execute_result"
    }
   ],
   "source": [
    "# Step 6: Transpose the matrix (swap rows and columns)\n",
    "matrix1.T"
   ]
  },
  {
   "cell_type": "markdown",
   "id": "35c8ed43",
   "metadata": {},
   "source": [
    "### Adding Scalars to Arrays\n",
    "Can add a scalar to an array, and NumPy will broadcast the scalar to all elements of the array "
   ]
  },
  {
   "cell_type": "code",
   "execution_count": 44,
   "id": "6af17bc8",
   "metadata": {},
   "outputs": [
    {
     "data": {
      "text/plain": [
       "array([20, 21, 22, 23, 24])"
      ]
     },
     "execution_count": 44,
     "metadata": {},
     "output_type": "execute_result"
    }
   ],
   "source": [
    "arr = np.array([1,2,3,4,5])\n",
    "result = arr + 19\n",
    "result"
   ]
  },
  {
   "cell_type": "markdown",
   "id": "f39ae006",
   "metadata": {},
   "source": [
    "### Broadcasting with 1D and 2D Arrays\n",
    "Can even broadcast a 1D array to a 2D array"
   ]
  },
  {
   "cell_type": "code",
   "execution_count": 46,
   "id": "46e469fb",
   "metadata": {},
   "outputs": [
    {
     "data": {
      "text/plain": [
       "array([[ 11,  22,  33],\n",
       "       [101, 202, 303]])"
      ]
     },
     "execution_count": 46,
     "metadata": {},
     "output_type": "execute_result"
    }
   ],
   "source": [
    "arr1 = np.array([1,2,3])\n",
    "arr2 = np.array([[10,20,30], [100, 200, 300]])\n",
    "result = arr1 + arr2\n",
    "result"
   ]
  },
  {
   "cell_type": "code",
   "execution_count": null,
   "id": "610a03ec",
   "metadata": {},
   "outputs": [],
   "source": []
  }
 ],
 "metadata": {
  "kernelspec": {
   "display_name": "Python 3 (ipykernel)",
   "language": "python",
   "name": "python3"
  },
  "language_info": {
   "codemirror_mode": {
    "name": "ipython",
    "version": 3
   },
   "file_extension": ".py",
   "mimetype": "text/x-python",
   "name": "python",
   "nbconvert_exporter": "python",
   "pygments_lexer": "ipython3",
   "version": "3.11.4"
  }
 },
 "nbformat": 4,
 "nbformat_minor": 5
}
